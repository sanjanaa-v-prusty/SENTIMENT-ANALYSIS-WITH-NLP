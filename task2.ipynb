{
 "cells": [
  {
   "cell_type": "code",
   "execution_count": 1,
   "id": "63629f71-3cfc-4090-9c17-aee67222af2a",
   "metadata": {},
   "outputs": [],
   "source": [
    "import pandas as pd\n",
    "import numpy as np\n",
    "import re\n",
    "import string\n",
    "import matplotlib.pyplot as plt\n",
    "import seaborn as sns\n",
    "\n",
    "from sklearn.model_selection import train_test_split\n",
    "from sklearn.feature_extraction.text import TfidfVectorizer\n",
    "from sklearn.linear_model import LogisticRegression\n",
    "from sklearn.metrics import accuracy_score, classification_report, confusion_matrix"
   ]
  },
  {
   "cell_type": "code",
   "execution_count": 3,
   "id": "4987aa77-f17c-4e3f-ad71-0a19f06ade4d",
   "metadata": {},
   "outputs": [
    {
     "name": "stdout",
     "output_type": "stream",
     "text": [
      "                               Review Sentiment\n",
      "0                I love this product!  Positive\n",
      "1      Absolutely terrible experience  Negative\n",
      "2     Great quality and fast shipping  Positive\n",
      "3                 Not worth the money  Negative\n",
      "4  Amazing service and friendly staff  Positive\n",
      "Review,Sentiment\n",
      "\"I love this product!\",Positive\n",
      "\"Absolutely terrible experience\",Negative\n",
      "\"Great quality and fast shipping\",Positive\n",
      "\"Not worth the money\",Negative\n",
      "\"Amazing service and friendly staff\",Positive\n",
      "\"Will never buy this again\",Negative\n",
      "\"Exceeded my expectations!\",Positive\n",
      "\"Completely disappointed\",Negative\n",
      "\"Fantastic build quality\",Positive\n",
      "\"Horrible packaging and late delivery\",Negative\n",
      "\"Five stars, very satisfied\",Positive\n",
      "\"Didn't like it at all\",Negative\n",
      "\"Quick and reliable\",Positive\n",
      "\"Terrible product, waste of money\",Negative\n",
      "\"Highly recommend it to everyone\",Positive\n",
      "\"Stopped working in a week\",Negative\n",
      "\"Customer support was great\",Positive\n",
      "\"Very poor customer service\",Negative\n",
      "\n"
     ]
    }
   ],
   "source": [
    "import pandas as pd\n",
    "\n",
    "# Load the .txt file as if it's a CSV\n",
    "df = pd.read_csv('sample_reviews.txt')  # Treats comma-separated text as CSV\n",
    "print(df.head())\n",
    "with open(\"sample_reviews.txt\", \"r\") as f:\n",
    "    print(f.read())"
   ]
  },
  {
   "cell_type": "code",
   "execution_count": 4,
   "id": "d7b361b2-e62e-4e42-bbb3-4826e043b1ab",
   "metadata": {},
   "outputs": [
    {
     "name": "stdout",
     "output_type": "stream",
     "text": [
      "Sample data:\n",
      "\n",
      "                               Review Sentiment\n",
      "0                I love this product!  Positive\n",
      "1      Absolutely terrible experience  Negative\n",
      "2     Great quality and fast shipping  Positive\n",
      "3                 Not worth the money  Negative\n",
      "4  Amazing service and friendly staff  Positive\n",
      "\n",
      "Accuracy: 0.5\n",
      "\n",
      "Classification Report:\n",
      "               precision    recall  f1-score   support\n",
      "\n",
      "    Negative       0.50      0.50      0.50         2\n",
      "    Positive       0.50      0.50      0.50         2\n",
      "\n",
      "    accuracy                           0.50         4\n",
      "   macro avg       0.50      0.50      0.50         4\n",
      "weighted avg       0.50      0.50      0.50         4\n",
      "\n",
      "\n",
      "Confusion Matrix:\n",
      " [[1 1]\n",
      " [1 1]]\n"
     ]
    }
   ],
   "source": [
    "import pandas as pd\n",
    "from sklearn.model_selection import train_test_split\n",
    "from sklearn.feature_extraction.text import TfidfVectorizer\n",
    "from sklearn.linear_model import LogisticRegression\n",
    "from sklearn.metrics import accuracy_score, classification_report, confusion_matrix\n",
    "\n",
    "# Load the dataset (assumes it's comma-separated even if it's a .txt file)\n",
    "df = pd.read_csv('sample_reviews.txt')\n",
    "\n",
    "# Show sample data\n",
    "print(\"Sample data:\\n\")\n",
    "print(df.head())\n",
    "\n",
    "# Split into features and labels\n",
    "X = df['Review']\n",
    "y = df['Sentiment']\n",
    "\n",
    "# Convert text data to TF-IDF vectors\n",
    "vectorizer = TfidfVectorizer(stop_words='english')\n",
    "X_tfidf = vectorizer.fit_transform(X)\n",
    "\n",
    "# Split the data into training and test sets\n",
    "X_train, X_test, y_train, y_test = train_test_split(X_tfidf, y, test_size=0.2, random_state=42)\n",
    "\n",
    "# Train the logistic regression model\n",
    "model = LogisticRegression()\n",
    "model.fit(X_train, y_train)\n",
    "\n",
    "# Predict sentiment for test data\n",
    "y_pred = model.predict(X_test)\n",
    "\n",
    "# Evaluate model\n",
    "print(\"\\nAccuracy:\", accuracy_score(y_test, y_pred))\n",
    "print(\"\\nClassification Report:\\n\", classification_report(y_test, y_pred))\n",
    "print(\"\\nConfusion Matrix:\\n\", confusion_matrix(y_test, y_pred))"
   ]
  },
  {
   "cell_type": "code",
   "execution_count": 6,
   "id": "396f7e68-a002-46af-8764-b121995d3121",
   "metadata": {},
   "outputs": [
    {
     "name": "stdin",
     "output_type": "stream",
     "text": [
      "\n",
      "Enter a review (or type 'exit' to quit):  Poitive\n"
     ]
    },
    {
     "name": "stdout",
     "output_type": "stream",
     "text": [
      "Predicted Sentiment: Positive\n"
     ]
    },
    {
     "name": "stdin",
     "output_type": "stream",
     "text": [
      "\n",
      "Enter a review (or type 'exit' to quit):  Poitive\n"
     ]
    },
    {
     "name": "stdout",
     "output_type": "stream",
     "text": [
      "Predicted Sentiment: Positive\n"
     ]
    },
    {
     "name": "stdin",
     "output_type": "stream",
     "text": [
      "\n",
      "Enter a review (or type 'exit' to quit):  Poitive\n"
     ]
    },
    {
     "name": "stdout",
     "output_type": "stream",
     "text": [
      "Predicted Sentiment: Positive\n"
     ]
    },
    {
     "name": "stdin",
     "output_type": "stream",
     "text": [
      "\n",
      "Enter a review (or type 'exit' to quit):  exit\n"
     ]
    }
   ],
   "source": [
    "while True:\n",
    "    user_input = input(\"\\nEnter a review (or type 'exit' to quit): \")\n",
    "    if user_input.lower() == 'exit':\n",
    "        break\n",
    "\n",
    "    # Transform the input using the same TF-IDF vectorizer\n",
    "    input_tfidf = vectorizer.transform([user_input])\n",
    "\n",
    "    # Predict sentiment\n",
    "    prediction = model.predict(input_tfidf)\n",
    "\n",
    "    print(\"Predicted Sentiment:\", prediction[0])"
   ]
  },
  {
   "cell_type": "code",
   "execution_count": null,
   "id": "8ec66b5e-3c93-4181-a4e8-368a0034272d",
   "metadata": {},
   "outputs": [],
   "source": []
  }
 ],
 "metadata": {
  "kernelspec": {
   "display_name": "Python 3 (ipykernel)",
   "language": "python",
   "name": "python3"
  },
  "language_info": {
   "codemirror_mode": {
    "name": "ipython",
    "version": 3
   },
   "file_extension": ".py",
   "mimetype": "text/x-python",
   "name": "python",
   "nbconvert_exporter": "python",
   "pygments_lexer": "ipython3",
   "version": "3.12.7"
  }
 },
 "nbformat": 4,
 "nbformat_minor": 5
}
